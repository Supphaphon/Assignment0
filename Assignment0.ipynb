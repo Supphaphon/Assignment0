{
  "nbformat": 4,
  "nbformat_minor": 0,
  "metadata": {
    "colab": {
      "provenance": [],
      "authorship_tag": "ABX9TyP44E3eXIcQfxnCvhnoE0zT",
      "include_colab_link": true
    },
    "kernelspec": {
      "name": "python3",
      "display_name": "Python 3"
    },
    "language_info": {
      "name": "python"
    }
  },
  "cells": [
    {
      "cell_type": "markdown",
      "metadata": {
        "id": "view-in-github",
        "colab_type": "text"
      },
      "source": [
        "<a href=\"https://colab.research.google.com/github/Supphaphon/Assignment0/blob/main/Assignment0.ipynb\" target=\"_parent\"><img src=\"https://colab.research.google.com/assets/colab-badge.svg\" alt=\"Open In Colab\"/></a>"
      ]
    },
    {
      "cell_type": "code",
      "execution_count": 1,
      "metadata": {
        "id": "lCExx1ldrWGy"
      },
      "outputs": [],
      "source": [
        "from collections import Counter\n",
        "import numpy as np\n",
        "\n",
        "def count_runs(list):\n",
        "    L = []\n",
        "    count = 0\n",
        "    for x in list:\n",
        "        if x == 1:\n",
        "            count += 1\n",
        "        else:\n",
        "            if count: L.append(count)\n",
        "            count = 0\n",
        "    if count: L.append(count)\n",
        "    return Counter(L)"
      ]
    },
    {
      "cell_type": "code",
      "source": [
        "count_runs([0, 1, 0, 1, 1, 0, 0, 0, 0, 1],)"
      ],
      "metadata": {
        "colab": {
          "base_uri": "https://localhost:8080/"
        },
        "id": "88dBLx3_sefG",
        "outputId": "22242cee-2daf-43d2-b783-0be7156354f9"
      },
      "execution_count": 2,
      "outputs": [
        {
          "output_type": "execute_result",
          "data": {
            "text/plain": [
              "Counter({1: 2, 2: 1})"
            ]
          },
          "metadata": {},
          "execution_count": 2
        }
      ]
    },
    {
      "cell_type": "code",
      "source": [
        "count_runs(np.random.randint(0, 2, 1000000))"
      ],
      "metadata": {
        "colab": {
          "base_uri": "https://localhost:8080/"
        },
        "id": "rNP3WuYLse4-",
        "outputId": "8aa78889-c8e5-484b-f412-eeedf3183f50"
      },
      "execution_count": 3,
      "outputs": [
        {
          "output_type": "execute_result",
          "data": {
            "text/plain": [
              "Counter({1: 124652,\n",
              "         2: 62613,\n",
              "         3: 31144,\n",
              "         4: 15849,\n",
              "         5: 7779,\n",
              "         6: 3901,\n",
              "         9: 468,\n",
              "         8: 939,\n",
              "         7: 1931,\n",
              "         13: 28,\n",
              "         10: 261,\n",
              "         12: 63,\n",
              "         11: 117,\n",
              "         17: 2,\n",
              "         14: 12,\n",
              "         18: 2,\n",
              "         15: 14,\n",
              "         16: 4})"
            ]
          },
          "metadata": {},
          "execution_count": 3
        }
      ]
    },
    {
      "cell_type": "code",
      "source": [
        "import numpy as np\n",
        "\n",
        "def has_run_of_length_k(arr, k):\n",
        "    count = 0\n",
        "    for val in arr:\n",
        "        if val == 1:\n",
        "            count += 1\n",
        "            if count >= k:\n",
        "                return True\n",
        "        else:\n",
        "            count = 0\n",
        "    return False\n",
        "\n",
        "def run_prob(expts, n, k, p):\n",
        "    successes = 0\n",
        "    for _ in range(expts):\n",
        "        sequence = np.random.random(n) < p\n",
        "        if has_run_of_length_k(sequence, k):\n",
        "            successes += 1\n",
        "    return successes / expts"
      ],
      "metadata": {
        "id": "9XbJjkEBshO9"
      },
      "execution_count": 4,
      "outputs": []
    },
    {
      "cell_type": "code",
      "source": [
        "run_prob(expts=100000, n=100, k=5, p=0.5)"
      ],
      "metadata": {
        "colab": {
          "base_uri": "https://localhost:8080/"
        },
        "id": "LIqUf-NxskXG",
        "outputId": "d9c7647c-ec1a-4d01-fd47-7a1ef1dc6f03"
      },
      "execution_count": 5,
      "outputs": [
        {
          "output_type": "execute_result",
          "data": {
            "text/plain": [
              "0.81055"
            ]
          },
          "metadata": {},
          "execution_count": 5
        }
      ]
    },
    {
      "cell_type": "code",
      "source": [
        "run_prob(expts=100000, n=100, k=7, p=0.7)"
      ],
      "metadata": {
        "colab": {
          "base_uri": "https://localhost:8080/"
        },
        "id": "mNkGnbwlsmSY",
        "outputId": "9acec8df-913e-43fb-a827-47ae447e5375"
      },
      "execution_count": 6,
      "outputs": [
        {
          "output_type": "execute_result",
          "data": {
            "text/plain": [
              "0.94982"
            ]
          },
          "metadata": {},
          "execution_count": 6
        }
      ]
    }
  ]
}